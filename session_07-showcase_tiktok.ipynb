{
  "nbformat": 4,
  "nbformat_minor": 0,
  "metadata": {
    "colab": {
      "provenance": [],
      "authorship_tag": "ABX9TyPiwBiKe+7ApGkTOr9fGruZ",
      "include_colab_link": true
    },
    "kernelspec": {
      "name": "ir",
      "display_name": "R"
    },
    "language_info": {
      "name": "R"
    }
  },
  "cells": [
    {
      "cell_type": "markdown",
      "metadata": {
        "id": "view-in-github",
        "colab_type": "text"
      },
      "source": [
        "<a href=\"https://colab.research.google.com/github/chrdrn/dbd_binder/blob/main/session_07-showcase_tiktok.ipynb\" target=\"_parent\"><img src=\"https://colab.research.google.com/assets/colab-badge.svg\" alt=\"Open In Colab\"/></a>"
      ]
    },
    {
      "cell_type": "markdown",
      "source": [
        "# Background\n",
        "\n",
        "This showcase is intended to illustrate different analysis possibilities of <img src=\"https://raw.githubusercontent.com/FortAwesome/Font-Awesome/6.x/svgs/brands/tiktok.svg\" width=\"15\" height=\"15\"> TikTok data downloaded with the [`Zeeschuimer`](https://github.com/digitalmethodsinitiative/zeeschuimer) browser extension.\n",
        "\n",
        "\n"
      ],
      "metadata": {
        "id": "6Zw3Q-FA-FME"
      }
    },
    {
      "cell_type": "markdown",
      "source": [
        "## Preparation\n",
        "\n",
        "Install addtional necessary packages\n",
        "\n",
        "⚠ It might take a few minutes to install all packages and dependencies\n",
        "\n"
      ],
      "metadata": {
        "id": "oCFDGp0rUtAn"
      }
    },
    {
      "cell_type": "code",
      "source": [
        "install.packages(c(\n",
        "  \"sjmisc\",\n",
        "  \"sjPlot\",\n",
        "  \"quanteda\",\n",
        "  \"quanteda.textplots\"))"
      ],
      "metadata": {
        "id": "XlTzN152Uv0K",
        "outputId": "1d214db9-ed67-40c5-89f7-d17c468fa003",
        "colab": {
          "base_uri": "https://localhost:8080/"
        }
      },
      "execution_count": null,
      "outputs": [
        {
          "output_type": "stream",
          "name": "stderr",
          "text": [
            "Installing packages into ‘/usr/local/lib/R/site-library’\n",
            "(as ‘lib’ is unspecified)\n",
            "\n",
            "also installing the dependencies ‘estimability’, ‘numDeriv’, ‘mvtnorm’, ‘xtable’, ‘minqa’, ‘nloptr’, ‘RcppEigen’, ‘coda’, ‘emmeans’, ‘lme4’, ‘ISOcodes’, ‘extrafontdb’, ‘Rttf2pt1’, ‘statnet.common’, ‘insight’, ‘sjlabelled’, ‘bayestestR’, ‘datawizard’, ‘effectsize’, ‘ggeffects’, ‘parameters’, ‘performance’, ‘sjstats’, ‘fastmatch’, ‘Rcpp’, ‘RcppParallel’, ‘SnowballC’, ‘stopwords’, ‘RcppArmadillo’, ‘extrafont’, ‘ggrepel’, ‘sna’, ‘igraph’, ‘network’\n",
            "\n",
            "\n"
          ]
        }
      ]
    },
    {
      "cell_type": "markdown",
      "source": [
        "## Data analysis\n",
        "\n",
        "*   based on TikToks that are tagged with the hashtag `statistics`\n",
        "*   collected via [`Zeeschuimer`](https://github.com/digitalmethodsinitiative/zeeschuimer) with .csv export via 🐈🐈 [**4CAT**](https://github.com/digitalmethodsinitiative/4cat) 🐈🐈"
      ],
      "metadata": {
        "id": "eTTlrhjEBgQ5"
      }
    },
    {
      "cell_type": "markdown",
      "source": [
        "### Data import from [<img src=\"https://raw.githubusercontent.com/FortAwesome/Font-Awesome/6.x/svgs/brands/github.svg\" width=\"15\" height=\"15\">](https://github.com/chrdrn/dbd_binder) [Github repository](https://github.com/chrdrn/dbd_binder)"
      ],
      "metadata": {
        "id": "trQCMo84ikyi"
      }
    },
    {
      "cell_type": "code",
      "source": [
        "# load packages\n",
        "library(tidyverse)\n",
        "library(readr)\n",
        "\n",
        "# get data from github\n",
        "statistics <- read_csv(\n",
        "  \"https://raw.githubusercontent.com/chrdrn/dbd_binder/main/data/07-tiktok/tiktok-search-statistics.csv\",\n",
        "  col_types = cols(author_followers = col_number()))\n",
        "\n",
        "# quick preview\n",
        "statistics %>% glimpse()\n"
      ],
      "metadata": {
        "id": "xuckrB5limkX"
      },
      "execution_count": null,
      "outputs": []
    },
    {
      "cell_type": "markdown",
      "source": [
        "### Data exploration\n",
        "\n"
      ],
      "metadata": {
        "id": "LI5oqYXCRHVE"
      }
    },
    {
      "cell_type": "markdown",
      "source": [
        "####  Periode in which the TikToks were posted"
      ],
      "metadata": {
        "id": "JNrca4mwQ2aZ"
      }
    },
    {
      "cell_type": "code",
      "source": [
        "# Load additional packages\n",
        "library(lubridate)\n",
        "library(sjPlot)\n",
        "library(ggpubr)\n",
        "\n",
        "# Display \n",
        "statistics %>% \n",
        "  mutate(date  = as.factor(year(timestamp))) %>% \n",
        "  plot_frq(date) +\n",
        "  theme_pubr()"
      ],
      "metadata": {
        "id": "GKIk5bkuJwN9"
      },
      "execution_count": null,
      "outputs": []
    },
    {
      "cell_type": "markdown",
      "source": [
        "#### Location parameters of different statistics"
      ],
      "metadata": {
        "id": "WKYAgRoGRBVi"
      }
    },
    {
      "cell_type": "code",
      "source": [
        "# Load additional packages\n",
        "library(sjmisc)\n",
        "\n",
        "# Get location parameters\n",
        "statistics %>% \n",
        "  select(likes:plays) %>% \n",
        "  descr()"
      ],
      "metadata": {
        "id": "k8kklkbfoyMo"
      },
      "execution_count": null,
      "outputs": []
    },
    {
      "cell_type": "markdown",
      "source": [
        "#### Distribution of likes\n"
      ],
      "metadata": {
        "id": "iastblkhRMS5"
      }
    },
    {
      "cell_type": "code",
      "source": [
        "statistics %>% \n",
        "  plot_frq(likes, type = \"density\")"
      ],
      "metadata": {
        "id": "UfkPEyf0ROeK"
      },
      "execution_count": null,
      "outputs": []
    },
    {
      "cell_type": "markdown",
      "source": [
        "#### Warning messages displayed in TikToks"
      ],
      "metadata": {
        "id": "uyIf9YDeRQgL"
      }
    },
    {
      "cell_type": "code",
      "source": [
        "statistics %>% \n",
        "  frq(warning)"
      ],
      "metadata": {
        "id": "RoxFtsIhRWJC"
      },
      "execution_count": null,
      "outputs": []
    },
    {
      "cell_type": "markdown",
      "source": [
        "### Text analysis\n",
        "based on [quanteda](https://quanteda.io/index.html): \n",
        "\n",
        "> *quanteda is an R package for managing and analyzing textual data developed by Kenneth Benoit, Kohei Watanabe, and other contributors. Its initial development was supported by the European Research Council grant ERC-2011-StG 283794-QUANTESS.*\n",
        "\n",
        "> *The package is designed for R users needing to apply natural language processing to texts, from documents to final analysis. Its capabilities match or exceed those provided in many end-user software applications, many of which are expensive and not open source. The package is therefore of great benefit to researchers, students, and other analysts with fewer financial resources. While using quanteda requires R programming knowledge, its API is designed to enable powerful, efficient analysis with a minimum of steps. By emphasizing consistent design, furthermore, quanteda lowers the barriers to learning and using NLP and quantitative text analysis even for proficient R programmers.*\n",
        "\n",
        "Packages [`quanteda`](https://github.com/quanteda/quanteda) & [`quanteda.textplots`](https://github.com/quanteda/quanteda.textplots) are used. \n",
        "\n",
        "\n",
        "\n",
        "\n"
      ],
      "metadata": {
        "id": "Q-Ko54ZXRXan"
      }
    },
    {
      "cell_type": "markdown",
      "source": [
        "#### Create corpus "
      ],
      "metadata": {
        "id": "GAVSkeKiScXM"
      }
    },
    {
      "cell_type": "code",
      "source": [
        "# Create corpus based on variable hashtags\n",
        "crp <- corpus(\n",
        "  statistics, \n",
        "  docid_field = \"id\",\n",
        "  text_field = \"hashtags\")\n",
        "\n",
        "# Display\n",
        "crp "
      ],
      "metadata": {
        "id": "mKIPQoi8SIKC"
      },
      "execution_count": null,
      "outputs": []
    },
    {
      "cell_type": "markdown",
      "source": [
        "#### Tokenization\n"
      ],
      "metadata": {
        "id": "iSV-8PqsSgKv"
      }
    },
    {
      "cell_type": "code",
      "source": [
        "# Create tokens based on corpus\n",
        "tkn <- crp %>% \n",
        "  tokens(\n",
        "    remove_punct = TRUE,\n",
        "    remove_symbols = TRUE,\n",
        "    remove_url = TRUE,\n",
        "    remove_separators = TRUE)\n",
        "\n",
        "# Display\n",
        "tkn"
      ],
      "metadata": {
        "id": "HPmmSSXnShbV"
      },
      "execution_count": null,
      "outputs": []
    },
    {
      "cell_type": "markdown",
      "source": [
        "#### Create Document-Feature-Matrix (DFM)\n"
      ],
      "metadata": {
        "id": "6c2ecdF-SjLQ"
      }
    },
    {
      "cell_type": "code",
      "source": [
        "# Create dfm based on tokens\n",
        "dfm <- tkn %>% \n",
        "  dfm()\n",
        "\n",
        "# Display\n",
        "dfm"
      ],
      "metadata": {
        "id": "i4SsgDiFSkkr"
      },
      "execution_count": null,
      "outputs": []
    },
    {
      "cell_type": "markdown",
      "source": [
        "#### Wordclouds"
      ],
      "metadata": {
        "id": "S_92HRV-SnpC"
      }
    },
    {
      "cell_type": "markdown",
      "source": [
        "##### based on complete DFM"
      ],
      "metadata": {
        "id": "2R9j6rpzSqsq"
      }
    },
    {
      "cell_type": "code",
      "source": [
        "dfm %>% \n",
        "  textplot_wordcloud(\n",
        "    min_size = 1,\n",
        "    max_size = 8,\n",
        "    max_words = 50,\n",
        "    rotation = 0\n",
        "  )"
      ],
      "metadata": {
        "id": "EFudCs2HSywf"
      },
      "execution_count": null,
      "outputs": []
    },
    {
      "cell_type": "markdown",
      "source": [
        "##### without the searchterm `statistics`"
      ],
      "metadata": {
        "id": "PIBr_CBLS0Tx"
      }
    },
    {
      "cell_type": "code",
      "source": [
        "dfm %>% \n",
        "  dfm_remove(pattern = \"statistics\") %>% \n",
        "  textplot_wordcloud(\n",
        "    min_size = 1,\n",
        "    max_size = 8,\n",
        "    max_words = 50,\n",
        "    rotation = 0,\n",
        "    color = \"dodgerblue3\"\n",
        "  )"
      ],
      "metadata": {
        "id": "ioRq4fMrS3pp"
      },
      "execution_count": null,
      "outputs": []
    }
  ]
}
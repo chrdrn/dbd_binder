{
  "nbformat": 4,
  "nbformat_minor": 0,
  "metadata": {
    "colab": {
      "provenance": [],
      "authorship_tag": "ABX9TyPgaK9GGpPFeKey5IhrwUGP",
      "include_colab_link": true
    },
    "kernelspec": {
      "name": "ir",
      "display_name": "R"
    },
    "language_info": {
      "name": "R"
    }
  },
  "cells": [
    {
      "cell_type": "markdown",
      "metadata": {
        "id": "view-in-github",
        "colab_type": "text"
      },
      "source": [
        "<a href=\"https://colab.research.google.com/github/chrdrn/dbd_binder/blob/main/session_08-showcase_text_as_data.ipynb\" target=\"_parent\"><img src=\"https://colab.research.google.com/assets/colab-badge.svg\" alt=\"Open In Colab\"/></a>"
      ]
    },
    {
      "cell_type": "markdown",
      "source": [
        "# Background\n",
        "\n",
        "This showcase is \n",
        "\n",
        "\n",
        "1.   Listeneintrag\n",
        "2.   Listeneintrag\n",
        "\n",
        "\n"
      ],
      "metadata": {
        "id": "6Zw3Q-FA-FME"
      }
    },
    {
      "cell_type": "markdown",
      "source": [
        "## Preparation\n",
        "\n"
      ],
      "metadata": {
        "id": "oCFDGp0rUtAn"
      }
    },
    {
      "cell_type": "markdown",
      "source": [
        "### Install packages\n",
        "\n",
        "Install addtional necessary packages\n",
        "\n",
        "**⚠ It might take a few minutes to install all packages and dependencies**"
      ],
      "metadata": {
        "id": "qh-ge5SpkSOp"
      }
    },
    {
      "cell_type": "code",
      "source": [
        "install.packages(c(\n",
        "  \"rmarkdown\", \"kableExtra\", # html output\n",
        "  \"sjmisc\", \"magrittr\", \"lubridate\", \"janitor\", \"sjlabelled\", # data processing\n",
        "  \"sjPlot\", \"ggpubr\", \"ggsci\", # visual analysis\n",
        "  \"RCurl\", \"XML\", \"rvest\", # scraping\n",
        "  \"quanteda\", \"quanteda.textplots\", \"quanteda.textstats\", # text processing\n",
        "  \"fastText\", # language detection\n",
        "  \"stm\", \"tidytext\", # topic modeling/analysis \n",
        "  \"glue\", # tidy text output\n",
        "  \"tictoc\" # timer\n",
        "  ))"
      ],
      "metadata": {
        "id": "XlTzN152Uv0K",
        "outputId": "e10b674b-493f-48ab-c663-0f222ef88d64",
        "colab": {
          "base_uri": "https://localhost:8080/"
        }
      },
      "execution_count": 3,
      "outputs": [
        {
          "output_type": "stream",
          "name": "stderr",
          "text": [
            "Installing packages into ‘/usr/local/lib/R/site-library’\n",
            "(as ‘lib’ is unspecified)\n",
            "\n",
            "also installing the dependencies ‘SparseM’, ‘MatrixModels’, ‘estimability’, ‘numDeriv’, ‘mvtnorm’, ‘minqa’, ‘nloptr’, ‘carData’, ‘abind’, ‘pbkrtest’, ‘quantreg’, ‘coda’, ‘iterators’, ‘emmeans’, ‘lme4’, ‘corrplot’, ‘car’, ‘ISOcodes’, ‘extrafontdb’, ‘Rttf2pt1’, ‘statnet.common’, ‘foreach’, ‘shape’, ‘RcppEigen’, ‘webshot’, ‘insight’, ‘snakecase’, ‘datawizard’, ‘bayestestR’, ‘effectsize’, ‘ggeffects’, ‘parameters’, ‘performance’, ‘sjstats’, ‘ggrepel’, ‘cowplot’, ‘ggsignif’, ‘gridExtra’, ‘polynom’, ‘rstatix’, ‘bitops’, ‘fastmatch’, ‘Rcpp’, ‘RcppParallel’, ‘SnowballC’, ‘stopwords’, ‘RcppArmadillo’, ‘extrafont’, ‘sna’, ‘igraph’, ‘network’, ‘nsyllable’, ‘proxyC’, ‘glmnet’, ‘lda’, ‘matrixStats’, ‘quadprog’, ‘slam’, ‘hunspell’, ‘janeaustenr’, ‘tokenizers’\n",
            "\n",
            "\n"
          ]
        }
      ]
    },
    {
      "cell_type": "code",
      "source": [
        "# Define options for output\n",
        "set.seed(42)\n",
        "options(scipen = 999)"
      ],
      "metadata": {
        "id": "g0y5UqQmlPGj"
      },
      "execution_count": 4,
      "outputs": []
    },
    {
      "cell_type": "markdown",
      "source": [
        "### Recommended: Import (complete) data from [<img src=\"https://raw.githubusercontent.com/FortAwesome/Font-Awesome/6.x/svgs/brands/github.svg\" width=\"15\" height=\"15\">](https://github.com/chrdrn/dbd_binder) [Github repository](https://github.com/chrdrn/dbd_binder)\n",
        "\n",
        "*   Due to the low processing power of Google Colab, scraping the Amazon reviews and calculating the topic model could take a very long time. \n",
        "*   Therefore, it is highly recommended to load the dataset that contains all the data(sets) created in this Colab and only run the chunks that contain analysis and/or render graphs. \n",
        "\n"
      ],
      "metadata": {
        "id": "LzpYoNeVkNrE"
      }
    },
    {
      "cell_type": "code",
      "source": [
        "amazon <- readRDS(\n",
        "  url(\"https://github.com/chrdrn/dbd_binder/blob/main/data/08-text_as_data/reviews_tpm.RDS?raw=true\"), \"rb\")\n",
        "\n",
        "# Check data structure and sublists\n",
        "amazon |> summary()"
      ],
      "metadata": {
        "id": "Ad4_3jdklJ7a",
        "outputId": "09724a81-914d-4cd0-c825-d29deca7c1ee",
        "colab": {
          "base_uri": "https://localhost:8080/",
          "height": 139
        }
      },
      "execution_count": 10,
      "outputs": [
        {
          "output_type": "display_data",
          "data": {
            "text/plain": [
              "     Length Class  Mode\n",
              "raw  5      -none- list\n",
              "data 6      -none- list\n",
              "temp 4      -none- list\n",
              "txt  4      -none- list\n",
              "tpm  5      -none- list\n",
              "stm  3      -none- list"
            ]
          },
          "metadata": {}
        }
      ]
    },
    {
      "cell_type": "markdown",
      "source": [
        "## Scrape Amazon reviews\n",
        "\n",
        "*   based on [stackoverflow post](https://stackoverflow.com/a/70993803)."
      ],
      "metadata": {
        "id": "eTTlrhjEBgQ5"
      }
    },
    {
      "cell_type": "markdown",
      "source": [
        "### Create custom function\n",
        "\n",
        "*   `scrape_amazon` function with two arguments\n",
        "  *   `page_num`: The number of the review page that is to be scraped\n",
        "  *   `review_url`: URL of review page for the product\n"
      ],
      "metadata": {
        "id": "trQCMo84ikyi"
      }
    },
    {
      "cell_type": "code",
      "source": [
        "scrape_amazon <- function(page_num, review_url) {\n",
        "  url_reviews <- paste0(review_url, \"&pageNumber=\", page_num, \"&sortBy=recent\")\n",
        "  doc <- read_html(url_reviews)\n",
        "  map_dfr(doc %>% html_elements(\"[id^='customer_review']\"), ~ data.frame(\n",
        "    review_title = .x %>% html_element(\".review-title\") %>% html_text2(),\n",
        "    review_text = .x %>% html_element(\".review-text-content\") %>% html_text2(),\n",
        "    review_star = .x %>% html_element(\".review-rating\") %>% html_text2(),\n",
        "    date = .x %>% html_element(\".review-date\") %>% html_text2() %>% gsub(\".*vom \", \"\", .),\n",
        "    author = .x %>% html_element(\".a-profile-name\") %>% html_text2(),\n",
        "    page = page_num\n",
        "  )) %>%\n",
        "    as_tibble %>%\n",
        "    return()\n",
        "}"
      ],
      "metadata": {
        "id": "xuckrB5limkX"
      },
      "execution_count": null,
      "outputs": []
    },
    {
      "cell_type": "markdown",
      "source": [
        "### Define product urls\n",
        "\n",
        "-   `p01` (*Lineavi*): 1.679 Gesamtbewertungen, 782 mit Rezensionen --\\> 79 pages\n",
        "-   `p02` (*DietySlim*): 1.652 Gesamtbewertungen, 268 mit Rezensionen --\\> 28 pages\n",
        "-   `p03` (*Keto Burn*): 3.341 Gesamtbewertungen, 540 mit Rezensionen --\\> 55 pages\n",
        "-   `p04` (*Yokebe*): 1.586 Gesamtbewertungen, 156 mit Rezensionen --\\> 16 pages\n",
        "-   `p05` (*Vihado*): 1.335 Gesamtbewertungen, 396 mit Rezensionen --\\> 40 pages\n"
      ],
      "metadata": {
        "id": "LI5oqYXCRHVE"
      }
    },
    {
      "cell_type": "code",
      "source": [
        "url <- list(\n",
        "  p01 = \"https://www.amazon.de/LINEAVI-Eiwei%C3%9F-Shake-Kombination-Molkeneiwei%C3%9F-laktosefrei/product-reviews/B018IB02AU/ref=cm_cr_dp_d_show_all_btm?ie=UTF8&reviewerType=all_reviews\",\n",
        "  p02 = \"https://www.amazon.de/Detoxkuren%E2%80%A2-Entw%C3%A4sserung-Entschlackung-Stoffwechsel-entschlacken/product-reviews/B072QW5ZN1/ref=cm_cr_dp_d_show_all_btm?ie=UTF8&reviewerType=all_reviews\",\n",
        "  p03 = \"https://www.amazon.de/Saint-Nutrition%C2%AE-KETO-BURN-Appetitz%C3%BCgler/product-reviews/B08B67V8G5/ref=cm_cr_dp_d_show_all_btm?ie=UTF8&reviewerType=all_reviews\",\n",
        "  p04 = \"https://www.amazon.de/Yokebe-vegetarisch-Mahlzeitersatz-Gewichtsabnahme-hochwertigen/product-reviews/B08GYZ8LRB/ref=cm_cr_dp_d_show_all_btm?ie=UTF8&reviewerType=all_reviews\",\n",
        "  p05 = \"https://www.amazon.de/Vihado-Liquid-chlorophyll-drops-alfalfa/product-reviews/B093XNC8QH/ref=cm_cr_arp_d_paging_btm_next_2?ie=UTF8&reviewerType=all_reviews\"\n",
        ")"
      ],
      "metadata": {
        "id": "4TbctU_MBoB-"
      },
      "execution_count": null,
      "outputs": []
    },
    {
      "cell_type": "markdown",
      "source": [
        "###  Scrape reviews for products\n",
        "- Create a list to store the output (`amazon`) \n",
        "- Scrape all review (pages) for all products (`p01`:`p05`)"
      ],
      "metadata": {
        "id": "JNrca4mwQ2aZ"
      }
    },
    {
      "cell_type": "code",
      "source": [
        "# Create list for output\n",
        "amazon <- list()\n",
        "\n",
        "# Scrape reviews o\n",
        "## p01 \n",
        "for (i in 1:79) {\n",
        "  df <- scrape_amazon(page_num = i, review_url = url$p01)\n",
        "  amazon$raw$p01[[i]] <- df\n",
        "}\n",
        "\n",
        "## p02\n",
        "for (i in 1:28) {\n",
        "  df <- scrape_amazon(page_num = i, review_url = url$p02)\n",
        "  amazon$raw$p02[[i]] <- df\n",
        "}\n",
        "\n",
        "## p03\n",
        "for (i in 1:55) {\n",
        "  df <- scrape_amazon(page_num = i, review_url = url$p03)\n",
        "  amazon$raw$p03[[i]] <- df\n",
        "}\n",
        "\n",
        "## p04\n",
        "for (i in 1:16) {\n",
        "  df <- scrape_amazon(page_num = i, review_url = url$p04)\n",
        "  amazon$raw$p04[[i]] <- df\n",
        "}\n",
        "\n",
        "## p05\n",
        "for (i in 1:40) {\n",
        "  df <- scrape_amazon(page_num = i, review_url = url$p05)\n",
        "  amazon$raw$p05[[i]] <- df\n",
        "}"
      ],
      "metadata": {
        "id": "GKIk5bkuJwN9"
      },
      "execution_count": null,
      "outputs": []
    },
    {
      "cell_type": "markdown",
      "source": [
        "### Bind rows"
      ],
      "metadata": {
        "id": "WKYAgRoGRBVi"
      }
    },
    {
      "cell_type": "code",
      "source": [
        "# Create vector with variable names of products\n",
        "product <- names(url)\n",
        "\n",
        "# bind rows for each product\n",
        "for (i in product) {\n",
        "  amazon$data$raw[[i]] <- amazon$raw[[i]] %>% \n",
        "    bind_rows() %>% \n",
        "    rownames_to_column(\"id\") %>% \n",
        "    mutate(across(id, as.numeric))\n",
        "}\n",
        "\n",
        "# bind rows of all products\n",
        "amazon$data$full <- amazon$data$raw %>% \n",
        "  bind_rows(.id = \"src\")"
      ],
      "metadata": {
        "id": "k8kklkbfoyMo"
      },
      "execution_count": null,
      "outputs": []
    },
    {
      "cell_type": "markdown",
      "source": [
        "## Data processing\n",
        "\n",
        "Several steps are necessary to use the data in further analysis: \n",
        "- Create unique identifiers (`doc_id` & `id`)\n",
        "- Create and edit `date` variables\n",
        "- Check for language of the review\n"
      ],
      "metadata": {
        "id": "iastblkhRMS5"
      }
    }
  ]
}